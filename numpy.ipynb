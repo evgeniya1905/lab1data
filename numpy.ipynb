<h1>Импорт библиотек
import numpy as np
import matplotlib.pyplot as plt
<h1>Задача 1. Дан набор из $p$ матриц размерностью $(n, n)$ и $p$ векторов размерностью $(n, 1)$, найти сумму произведений матриц на векторы. Написать тесты для кода
def sum_prod(X, V):
    result = np.zeros_like(V[0])
    for matrix, vector in zip(X, V):
        result += np.dot(matrix, vector)
    return result

X = [np.array([[1, 2], [3, 4]]), np.array([[2, 6], [7, 12]])]
V = [np.array([[1], [2]]), np.array([[5], [7]])]
print(sum_prod(X,V))

#Тесты
#[57][130]
<h1>Задача 2. Дана матрица M, напишите функцию, которая бинаризует матрицу по некоторому threshold (то есть, все значения большие threshold становятся равными 1, иначе 0). Напишите тесты для кода
def binarize(M: np.array, threshold=0.5):
    size = M.shape
    for i in range(size[0]):
        for j in range(size[1]):
            M[i][j] = 1 if M[i][j] > threshold else 0
    return M
print(binarize(np.array([[1,2,3],[2,0.3,0.7],[3,4,1]])))
print()
print(binarize(np.array([[1,0.1,3],[0.2,3,4],[3,0.3,5]]), 2))

#Тесты
#[[1. 1. 1.] [1. 0. 1.] [1. 1. 1.]]
#[[0. 0. 1.] [0. 1. 1.] [1. 0. 1.]]
<h1>Задача 3. Напишите функцию, которая возвращает уникальные элементы из каждой строки матрицы. Напишите такую же функцию, но для столбцов. Напишите тесты для кода
def unique_rows(matrix):
    return [np.unique(row) for row in matrix]

def unique_columns(matrix):
    return [np.unique(matrix[:, col]) for col in range(matrix.shape[1])]
print(unique_columns(np.array([[1,2,3],[4,5,6],[7,8,9]])))
print()
print(unique_columns(np.array([[1,2,1],[1,5,1],[7,8,9]])))
print()

#Тесты
#[array([1, 4, 7]), array([2, 5, 8]), array([3, 6, 9])]
#[array([1, 7]), array([2, 5, 8]), array([1, 9])]
<h1>Задача 4. Напишите функцию, которая заполняет матрицу с размерами $(m, n)$ случайными числами, распределенными по нормальному закону. Затем считает мат. ожидание и дисперсию для каждого из столбцов и строк, а также строит для каждой строки и столбца гистограмму значений (использовать функцию hist из модуля matplotlib.plot)
def analyze_matrix(rows=5, cols=5):
    matrix = np.random.randn(rows, cols)
    print("Матрица:")
    print(matrix)

    col_means = np.mean(matrix, axis=0)
    col_vars = np.var(matrix, axis=0)
    print("\nСтатистики по столбцам:")
    for i in range(cols):
        print(f"Столбец {i+1}: Среднее = {col_means[i]:.4f}, Дисперсия = {col_vars[i]:.4f}")

    row_means = np.mean(matrix, axis=1)
    row_vars = np.var(matrix, axis=1)
    print("\nСтатистики по строкам:")
    for i in range(rows):
        print(f"Строка {i+1}: Среднее = {row_means[i]:.4f}, Дисперсия = {row_vars[i]:.4f}")

    for i in range(cols):
        plt.figure(figsize=(6,4))
        plt.hist(matrix[:, i], bins=10, edgecolor='black')
        plt.title(f'Гистограмма столбца {i+1}')
        plt.xlabel('Значение')
        plt.ylabel('Частота')
        plt.grid(True)
        plt.show()

    for i in range(rows):
        plt.figure(figsize=(6,4))
        plt.hist(matrix[i, :], bins=10, edgecolor='black')
        plt.title(f'Гистограмма строки {i+1}')
        plt.xlabel('Значение')
        plt.ylabel('Частота')
        plt.grid(True)
        plt.show()
analyze_matrix(2, 1)

#Тесты
#Матрица: [[-0.180973 ] [ 0.8150904]]
<h1>Задача 5. Напишите функцию, которая заполняет матрицу $(m, n)$ в шахматном порядке заданными числами $a$ и $b$. Напишите тесты для кода
def chess(m, n, a, b):
    matrix = []
    for i in range(m):
        row = []
        for j in range(n):
            if (i + j) % 2 == 0:
                row.append(a)
            else:
                row.append(b)
        matrix.append(row)
    return matrix

#Тест
m, n = 4, 5
a, b = 1, 0
checkerboard = chess(m, n, a, b)
for row in checkerboard:
    print(row)

#Тесты
#[1, 0, 1, 0, 1] [0, 1, 0, 1, 0] [1, 0, 1, 0, 1] [0, 1, 0, 1, 0]
<h1>Задача 6. Напишите функцию, которая отрисовывает прямоугольник с заданными размерами (a, b) на изображении размера (m, n), цвет фона задайте в схеме RGB, как и цвет прямоугольника. Цвета также должны быть параметрами функции. Напишите аналогичную функцию но для овала с полуосями a и b. Напишите тесты для кода.
Примечание: уравнение эллипса (границы овала) можно записать как:
<h1>$\frac{(x-x_0)^2}{a^2}+\frac{(y-y_0)^2}{b^2}=1$
def draw_rectangle(m, n, a, b, bg_color, rect_color):
    image = np.zeros((n, m, 3), dtype=np.uint8)
    image[:] = bg_color
    top_left_x = (m - a) // 2
    top_left_y = (n - b) // 2
    image[top_left_y:top_left_y + b, top_left_x:top_left_x + a] = rect_color
    plt.imshow(image)
    plt.axis('off')
    plt.show()

def draw_ellipse(m, n, a, b, bg_color, ellipse_color):
    Y, X = np.ogrid[:n, :m]
    center_x = m / 2
    center_y = n / 2
    mask = (((X - center_x) / (a / 2))**2 + ((Y - center_y) / (b / 2))**2) <= 1
    image = np.zeros((n, m, 3), dtype=np.uint8)
    image[:] = bg_color
    image[mask] = ellipse_color
    plt.imshow(image)
    plt.axis('off')
    plt.show()

# Пример использования
if __name__ == "__main__":
    m, n = 400, 300
    a, b = 200, 100
    bg_color = [255, 255, 255]      # Белый фон
    rect_color = [255, 0, 0]        # Красный прямоугольник
    ellipse_color = [0, 0, 255]     # Синий овал

    draw_rectangle(m, n, a, b, bg_color, rect_color)
    draw_ellipse(m, n, a, b, bg_color, ellipse_color)
<h1>Задача 7. Дан некий временной ряд. Для данного ряда нужно найти его: математическое ожидание, дисперсию, СКО, найти все локальные максимумы и минимумы (локальный максимум - это точка, которая больше своих соседних точек, а локальный минимум - это точка, которая меньше своих соседей), а также вычислить для данного ряда другой ряд, получаемый методом скользящего среднего с размером окна $p$.
<h1>Примечание: метод скользящего среднего подразумевает нахождение среднего из подмножетсва ряда размером $p$
def analyze_time_series(series, p):
    series = np.array(series)
    mean = np.mean(series)
    variance = np.var(series)
    std_dev = np.std(series)
    
    maxima = []
    minima = []
    for i in range(1, len(series)-1):
        if series[i] > series[i-1] and series[i] > series[i+1]:
            maxima.append(i)
        elif series[i] < series[i-1] and series[i] < series[i+1]:
            minima.append(i)
    
    moving_average = np.convolve(series, np.ones(p)/p, mode='valid')
    return mean, variance, std_dev, maxima, minima, moving_average

# Тест
if __name__ == "__main__":
    time_series = [1, 3, 2, 5, 7, 6, 4, 8, 9, 7, 5, 6, 4, 3, 2, 4, 5]
    window_size = 3
    mean, variance, std_dev, maxima, minima, moving_avg = analyze_time_series(time_series, window_size)
    
    print(f"Математическое ожидание: {mean}")
    print(f"Дисперсия: {variance}")
    print(f"СКО: {std_dev}")
    print(f"Локальные максимумы: {maxima}")
    print(f"Локальные минимумы: {minima}")
    print(f"Скользящее среднее: {moving_avg}")
<h1> Задача 8. Дан некоторый вектор с целочисленными метками классов, напишите функцию, которая выполняет one-hot-encoding для данного вектора
<h1> One-hot-encoding - представление, в котором на месте метки некоторого класса стоит 1, в остальных позициях стоит 0. Например для вектора [0, 2, 3, 0] one-hot-encoding выглядит как: [[1, 0, 0, 0], [0, 0, 1, 0], [0, 0, 0, 1], [1, 0, 0, 0]]
def one_hot_encode(labels):
    n_classes = max(labels) + 1
    one_hot = []
    for label in labels:
        encoding = [0] * n_classes
        encoding[label] = 1
        one_hot.append(encoding)
    return one_hot

# Тест
vector = [0, 2, 3, 0]
encoded = one_hot_encode(vector)
for row in encoded:
    print(row)
