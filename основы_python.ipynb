{
  "cells": [
    {
      "cell_type": "markdown",
      "metadata": {
        "id": "M-DGa20PaHnu"
      },
      "source": [
        "#Задача 1\n",
        "Написать функцию на вход которой подается строка, состоящая из латинских букв.\n",
        "Функция должна вернуть количество гласных букв (a, e, i, o, u) в этой строке. Написать тесты для кода"
      ]
    },
    {
      "cell_type": "code",
      "execution_count": null,
      "metadata": {
        "id": "XvX8X_JJ6PCb"
      },
      "outputs": [],
      "source": [
        "# Функция для подсчёта гласных\n",
        "def count_vowels(input_string):\n",
        "    # Приводим строку к нижнему регистру, чтобы учитывать и заглавные буквы\n",
        "    input_string = input_string.lower()\n",
        "    # Определяем множество гласных\n",
        "    vowels = {'a', 'e', 'i', 'o', 'u'}\n",
        "    # Считаем количество гласных в строке\n",
        "    count = 0\n",
        "    for char in input_string:\n",
        "        if char in vowels:\n",
        "            count += 1\n",
        "    return count\n",
        "\n",
        "# Тесты\n",
        "print(count_vowels(\"hello\"))  # Ожидается 2 (e, o)\n",
        "print(count_vowels(\"HELLO\"))  # Ожидается 2 (e, o)\n",
        "print(count_vowels(\"Python\")) # Ожидается 1 (o)\n",
        "print(count_vowels(\"AEIOU\"))  # Ожидается 5\n",
        "print(count_vowels(\"\"))       # Ожидается 0\n"
      ]
    },
    {
      "cell_type": "markdown",
      "metadata": {
        "id": "t2ClV_Y0bbr6"
      },
      "source": [
        "# Задача 2\n",
        "Написать функцию на вход, которой подается строка. Функция должна вернуть true, если\n",
        "каждый символ в строке встречается только 1 раз, иначе должна вернуть false. Написать тесты для кода"
      ]
    },
    {
      "cell_type": "code",
      "execution_count": null,
      "metadata": {
        "id": "FppbECao6VIz"
      },
      "outputs": [],
      "source": [
        "def has_unique_characters(input_string):\n",
        "    for char in input_string:\n",
        "        if input_string.count(char) > 1:\n",
        "            return False\n",
        "    return True\n",
        "\n",
        "# Тесты\n",
        "print(has_unique_characters(\"abcde\"))  # Ожидается: True\n",
        "print(has_unique_characters(\"hello\"))  # Ожидается: False\n",
        "print(has_unique_characters(\"\"))       # Ожидается: True\n",
        "print(has_unique_characters(\"a\"))      # Ожидается: True\n",
        "print(has_unique_characters(\"AaBbCc\")) # Ожидается: True\n",
        "print(has_unique_characters(\"a b c\"))  # Ожидается: True\n",
        "print(has_unique_characters(\"a b a\"))  # Ожидается: False\n"
      ]
    },
    {
      "cell_type": "markdown",
      "metadata": {
        "id": "udRiIK1cdt6E"
      },
      "source": [
        "# Задача 3\n",
        "Написать функцию, которая принимает положительное число и возвращает количество\n",
        "бит равных 1 в этом числе. Написать тесты для кода"
      ]
    },
    {
      "cell_type": "code",
      "execution_count": null,
      "metadata": {
        "id": "6tkfDJRz6dp_"
      },
      "outputs": [],
      "source": [
        "def count_ones_in_binary(number):\n",
        "    binary_representation = bin(number)  # Преобразуем число в двоичный вид\n",
        "    count = 0\n",
        "    for bit in binary_representation:\n",
        "        if bit == '1':\n",
        "            count += 1\n",
        "    return count\n",
        "\n",
        "# Тесты\n",
        "print(count_ones_in_binary(5))  # Ожидается: 2\n",
        "print(count_ones_in_binary(15)) # Ожидается: 4\n",
        "print(count_ones_in_binary(0))  # Ожидается: 0\n",
        "print(count_ones_in_binary(1))  # Ожидается: 1\n",
        "print(count_ones_in_binary(8))  # Ожидается: 1\n"
      ]
    },
    {
      "cell_type": "markdown",
      "metadata": {
        "id": "26dDUz-Ae17N"
      },
      "source": [
        "# Задача 4\n",
        "Написать функцию, которая принимает положительное число. Функция должна вернуть то,\n",
        "сколько раз необходимо перемножать цифры числа или результат перемножения, чтобы\n",
        "получилось число состоящее из одной цифры.\n",
        "Например, для входного числа:\n",
        "· 39 функция должна вернуть 3, так как 3*9=27 => 2*7=14 => 1*4=4\n",
        "· 4 функция должна вернуть 0, так как число уже состоит из одной цифры\n",
        "· 999 функция должна вернуть 4, так как 9*9*9=729 => 7*2*9=126 => 1*2*6=12 =>\n",
        "1*2=2. Написать тесты для кода"
      ]
    },
    {
      "cell_type": "code",
      "execution_count": null,
      "metadata": {
        "id": "BH1A_Mgi6i4G"
      },
      "outputs": [],
      "source": [
        "def magic(n):\n",
        "    # Счётчик операций\n",
        "    count = 0\n",
        "    \n",
        "    # Пока число состоит более чем из одной цифры\n",
        "    while n >= 10:\n",
        "        # Перемножаем цифры числа\n",
        "        product = 1\n",
        "        for digit in str(n):\n",
        "            product *= int(digit)\n",
        "        n = product\n",
        "        count += 1\n",
        "    \n",
        "    return count\n",
        "\n",
        "# Тесты\n",
        "print(magic(39))   # Ожидается: 3\n",
        "print(magic(4))    # Ожидается: 0\n",
        "print(magic(999))  # Ожидается: 4\n",
        "print(magic(12))   # Ожидается: 2\n",
        "print(magic(99999))# Ожидается: 5\n"
      ]
    },
    {
      "cell_type": "markdown",
      "metadata": {
        "id": "0nS-kIa8g8vd"
      },
      "source": [
        "# Задача 5\n",
        "Написать функцию, которая принимает два целочисленных вектора одинаковой длины и\n",
        "возвращает среднеквадратическое отклонение двух векторов. Написать тесты для кода"
      ]
    },
    {
      "cell_type": "code",
      "execution_count": null,
      "metadata": {
        "id": "8iphx4LM6xbx"
      },
      "outputs": [],
      "source": [
        "import math\n",
        "\n",
        "def mse(pred, true):\n",
        "    # Проверка, что векторы одинаковой длины\n",
        "    if len(pred) != len(true):\n",
        "        raise ValueError(\"Векторы должны быть одинаковой длины\")\n",
        "    \n",
        "    # Вычисление суммы квадратов ошибок\n",
        "    error_sum = 0\n",
        "    for p, t in zip(pred, true):\n",
        "        error_sum += (p - t) ** 2\n",
        "    \n",
        "    # Среднеквадратическое отклонение\n",
        "    mse_value = error_sum / len(pred)\n",
        "    return mse_value\n",
        "\n",
        "# Тесты\n",
        "print(mse([1, 2, 3], [1, 2, 3]))    # Ожидается: 0\n",
        "print(mse([1, 2, 3], [4, 5, 6]))    # Ожидается: 9\n",
        "print(mse([0, 0, 0], [1, 1, 1]))    # Ожидается: 1\n",
        "print(mse([5, 10, 15], [5, 10, 20])) # Ожидается: 1.6667\n"
      ]
    },
    {
      "cell_type": "markdown",
      "metadata": {
        "id": "vpIPKL439zkw"
      },
      "source": [
        "# Задача 6\n",
        "Написать функцию, принимающая целое положительное число. Функция должна вернуть\n",
        "строку вида “(n1**p1)(n2**p2)…(nk**pk)” представляющая разложение числа на простые\n",
        "множители (если pi == 1, то выводить только ni).\n",
        "Например, для числа 86240 функция должна вернуть “(2**5)(5)(7**2)(11)”. Написать тесты для кода"
      ]
    },
    {
      "cell_type": "code",
      "execution_count": null,
      "metadata": {
        "id": "pFebmcZk94Jw"
      },
      "outputs": [],
      "source": [
        "def prime_factors(n):\n",
        "    factors = []\n",
        "    \n",
        "    # Проверка на количество делений на 2\n",
        "    count = 0\n",
        "    while n % 2 == 0:\n",
        "        count += 1\n",
        "        n //= 2\n",
        "    if count > 0:\n",
        "        factors.append(f\"2**{count}\" if count > 1 else \"2\")\n",
        "    \n",
        "    # Проверка на количество делений на другие простые числа\n",
        "    divisor = 3\n",
        "    while divisor * divisor <= n:\n",
        "        count = 0\n",
        "        while n % divisor == 0:\n",
        "            count += 1\n",
        "            n //= divisor\n",
        "        if count > 0:\n",
        "            factors.append(f\"{divisor}**{count}\" if count > 1 else f\"{divisor}\")\n",
        "        divisor += 2\n",
        "    \n",
        "    # Если остаток - простое число\n",
        "    if n > 2:\n",
        "        factors.append(str(n))\n",
        "    \n",
        "    # Формирование строки в нужном формате\n",
        "    return ''.join([f\"({factor})\" for factor in factors])\n",
        "\n",
        "\n",
        "# Тесты\n",
        "print(prime_factors(86240))  # Ожидается: (2**5)(5)(7**2)(11)\n",
        "print(prime_factors(39))     # Ожидается: (3)(13)\n",
        "print(prime_factors(4))      # Ожидается: (2**2)\n",
        "print(prime_factors(999))    # Ожидается: (3**3)(37)\n",
        "print(prime_factors(1))      # Ожидается: \"\""
      ]
    },
    {
      "cell_type": "markdown",
      "metadata": {
        "id": "ps2s0BudX7A2"
      },
      "source": [
        "# Задача 7\n",
        "Написать функцию, принимающая целое число n, задающее количество кубиков. Функция\n",
        "должна определить, можно ли из данного кол-ва кубиков построить пирамиду, то есть\n",
        "можно ли представить число n как 1^2+2^2+3^2+…+k^2. Если можно, то функция должна\n",
        "вернуть k, иначе строку “It is impossible”. Написать тесты для кода"
      ]
    },
    {
      "cell_type": "code",
      "execution_count": null,
      "metadata": {
        "id": "3YPjEXxhX_YT"
      },
      "outputs": [],
      "source": [
        "def pyramid(number):\n",
        "\n",
        "    k = 0\n",
        "    total = 0\n",
        "    \n",
        "    while total < number:\n",
        "        k += 1\n",
        "        total += k ** 2\n",
        "        \n",
        "    if total == number:\n",
        "        return k\n",
        "    else:\n",
        "        return \"It is impossible\"\n",
        "\n",
        "# Тесты\n",
        "print(pyramid(5))  # Ожидается: \"It is impossible\" \n",
        "print(pyramid(14)) # Ожидается: 3 \n",
        "print(pyramid(30)) # Ожидается: \"It is impossible\" \n",
        "print(pyramid(1))  # Ожидается: 1 \n",
        "print(pyramid(55)) # Ожидается: 5 "
      ]
    },
    {
      "cell_type": "markdown",
      "metadata": {
        "id": "KeKgmIdAQMEJ"
      },
      "source": [
        "# Задача 8\n",
        "Функция принимает на вход положительное число и определяет является ли оно сбалансированным, т.е. сумма цифр до средних равна сумме цифр после. Средними в случае нечетного числа цифр считать одну цифру, в случае четного - две средних. Написать тесты для кода"
      ]
    },
    {
      "cell_type": "code",
      "execution_count": null,
      "metadata": {
        "id": "gMAAqtqlQrZt"
      },
      "outputs": [],
      "source": [
        "def is_balanced(number):\n",
        "\n",
        "    digits = [int(digit) for digit in str(number)]\n",
        "    n = len(digits)\n",
        "    \n",
        "    # Определяем середину числа\n",
        "    if n % 2 == 0:\n",
        "        mid = n // 2\n",
        "        left = digits[:mid]\n",
        "        right = digits[mid:]\n",
        "    else:\n",
        "        mid = n // 2\n",
        "        left = digits[:mid]\n",
        "        right = digits[mid+1:]\n",
        "    \n",
        "    return sum(left) == sum(right)\n",
        "\n",
        "# Тесты\n",
        "print(is_balanced(123321))  # Ожидается: True \n",
        "print(is_balanced(1234321)) # Ожидается: True \n",
        "print(is_balanced(12321))   # Ожидается: True \n",
        "print(is_balanced(1234))    # Ожидается: False\n",
        "print(is_balanced(12345))   # Ожидается: False\n"
      ]
    }
  ],
  "metadata": {
    "colab": {
      "provenance": []
    },
    "kernelspec": {
      "display_name": "Python 3",
      "name": "python3"
    },
    "language_info": {
      "name": "python"
    }
  },
  "nbformat": 4,
  "nbformat_minor": 0
}
